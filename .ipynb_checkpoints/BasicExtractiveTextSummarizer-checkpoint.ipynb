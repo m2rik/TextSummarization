{
 "cells": [
  {
   "cell_type": "code",
   "execution_count": 4,
   "metadata": {},
   "outputs": [
    {
     "name": "stdout",
     "output_type": "stream",
     "text": [
      "[nltk_data] Downloading package punkt to\n",
      "[nltk_data]     C:\\Users\\Rit\\AppData\\Roaming\\nltk_data...\n",
      "[nltk_data]   Package punkt is already up-to-date!\n"
     ]
    }
   ],
   "source": [
    "#JATANAnlpProject\n",
    "\n",
    "import pandas as pd \n",
    "import numpy as np\n",
    "import nltk \n",
    "nltk.download('punkt')\n",
    "\n",
    "#using openpyxl, sheet.func()\n",
    "from openpyxl import load_workbook\n",
    "\n",
    "from nltk.corpus import stopwords\n",
    "\n",
    "\n",
    "from string import punctuation\n",
    "from nltk.probability import FreqDist\n",
    "from collections import defaultdict\n",
    "from nltk.tokenize import sent_tokenize, word_tokenize \n",
    "\n",
    "import talon\n",
    "talon.init()\n",
    "from talon import signature\n",
    "from talon.signature.bruteforce import extract_signature\n",
    "\n",
    "from langdetect import detect\n",
    "import re\n",
    "\n",
    "\n"
   ]
  },
  {
   "cell_type": "code",
   "execution_count": 5,
   "metadata": {},
   "outputs": [
    {
     "data": {
      "text/plain": [
       "LinearSVC(C=10.0, class_weight=None, dual=True, fit_intercept=True,\n",
       "     intercept_scaling=1, loss='squared_hinge', max_iter=1000,\n",
       "     multi_class='ovr', penalty='l2', random_state=None, tol=0.0001,\n",
       "     verbose=0)"
      ]
     },
     "execution_count": 5,
     "metadata": {},
     "output_type": "execute_result"
    }
   ],
   "source": [
    "from talon.signature import EXTRACTOR_FILENAME, EXTRACTOR_DATA\n",
    "from talon.signature.learning.classifier import train, init\n",
    "train(init(), EXTRACTOR_DATA, EXTRACTOR_FILENAME)"
   ]
  },
  {
   "cell_type": "code",
   "execution_count": 6,
   "metadata": {},
   "outputs": [],
   "source": [
    "wb=load_workbook('sampledata2.xlsx')"
   ]
  },
  {
   "cell_type": "code",
   "execution_count": 7,
   "metadata": {},
   "outputs": [
    {
     "name": "stdout",
     "output_type": "stream",
     "text": [
      "Hi Nick,\n",
      "\n",
      "Thank you so much for reaching out and taking the time to contact us about this issue!\n",
      "\n",
      "I checked our servers and I'm happy to tell you that I was able to find a   Backup account created via the \"Email\" login option and connected to your mail address nickvanbaelen@gmail.com. It was last updated in December 2017 and currently contains 20 cards. It is indeed very unusual that   would not restore your backup if your log into your   Backup email account now. \n",
      "\n",
      "Unfortunately, it is very hard for us to detect the source of your problem without further information. Therefore, I would kindly ask you to tell me which device and operating system you are using our   app on. It would also be helpful to know which version of the   app you are currently running. To check your version, please go to your   settings and click on \"About\" (Android) or scroll to the end of the settings page (iOS). \n",
      "\n",
      "Moreover, would it be possible to send me a screenshot of your   Backup screen after you tried to log into your account?\n",
      "\n",
      "Many thanks and best regards,\n",
      "\n",
      "\n",
      "Isabelle van Capelleveen\n",
      "Customer Support\n",
      "\n",
      "  GmbH\n",
      "C-HUB / Hafenstraße 25-27\n",
      "68159 Mannheim\n"
     ]
    },
    {
     "name": "stderr",
     "output_type": "stream",
     "text": [
      "G:\\Anaconda\\lib\\site-packages\\ipykernel_launcher.py:1: DeprecationWarning: Call to deprecated function get_sheet_by_name (Use wb[sheetname]).\n",
      "  \"\"\"Entry point for launching an IPython kernel.\n"
     ]
    }
   ],
   "source": [
    "sheet = wb.get_sheet_by_name('Sheet1')\n",
    "c=sheet['A2'].value\n",
    "print (c)\n",
    "\n",
    "#print \" \".join (c)"
   ]
  },
  {
   "cell_type": "code",
   "execution_count": 8,
   "metadata": {},
   "outputs": [
    {
     "name": "stdout",
     "output_type": "stream",
     "text": [
      "['Hi Nick,', '', 'Thank you so much for reaching out and taking the time to contact us about this issue!', '', 'I checked our servers and I\\'m happy to tell you that I was able to find a   Backup account created via the \"Email\" login option and connected to your mail address nickvanbaelen@gmail.com. It was last updated in December 2017 and currently contains 20 cards. It is indeed very unusual that   would not restore your backup if your log into your   Backup email account now. ', '', 'Unfortunately, it is very hard for us to detect the source of your problem without further information. Therefore, I would kindly ask you to tell me which device and operating system you are using our   app on. It would also be helpful to know which version of the   app you are currently running. To check your version, please go to your   settings and click on \"About\" (Android) or scroll to the end of the settings page (iOS). ', '', 'Moreover, would it be possible to send me a screenshot of your   Backup screen after you tried to log into your account?', '']\n"
     ]
    }
   ],
   "source": [
    "cleaned_email,signature = signature.extract(c,sender='')\n",
    "lines = cleaned_email.split('\\n')\n",
    "print (lines)"
   ]
  },
  {
   "cell_type": "code",
   "execution_count": 34,
   "metadata": {},
   "outputs": [
    {
     "name": "stdout",
     "output_type": "stream",
     "text": [
      "Hi Nick Thank you so much for reaching out and taking the time to contact us about this issue I checked our servers and I m happy to tell you that I was able to find a Backup account created via the Email login option and connected to your mail address nickvanbaelen gmail com It was last updated in December and currently contains cards It is indeed very unusual that would not restore your backup if your log into your Backup email account now Unfortunately it is very hard for us to detect the source of your problem without further information Therefore I would kindly ask you to tell me which device and operating system you are using our app on It would also be helpful to know which version of the app you are currently running To check your version please go to your settings and click on About Android or scroll to the end of the settings page iOS Moreover would it be possible to send me a screenshot of your Backup screen after you tried to log into your account \n"
     ]
    }
   ],
   "source": [
    "formatted_email_text = re.sub('[^a-zA-Z]', ' ', cleaned_email) \n",
    "formatted_email = re.sub(r'\\s+', ' ', formatted_email_text)  \n",
    "print (formatted_email)"
   ]
  },
  {
   "cell_type": "code",
   "execution_count": 20,
   "metadata": {},
   "outputs": [
    {
     "name": "stdout",
     "output_type": "stream",
     "text": [
      "['Hi Nick,\\n\\nThank you so much for reaching out and taking the time to contact us about this issue!', 'I checked our servers and I\\'m happy to tell you that I was able to find a   Backup account created via the \"Email\" login option and connected to your mail address nickvanbaelen@gmail.com.', 'It was last updated in December 2017 and currently contains 20 cards.', 'It is indeed very unusual that   would not restore your backup if your log into your   Backup email account now.', 'Unfortunately, it is very hard for us to detect the source of your problem without further information.', 'Therefore, I would kindly ask you to tell me which device and operating system you are using our   app on.', 'It would also be helpful to know which version of the   app you are currently running.', 'To check your version, please go to your   settings and click on \"About\" (Android) or scroll to the end of the settings page (iOS).', 'Moreover, would it be possible to send me a screenshot of your   Backup screen after you tried to log into your account?']\n"
     ]
    }
   ],
   "source": [
    "sentence_list = nltk.sent_tokenize(cleaned_email)  \n",
    "print (sentence_list)"
   ]
  },
  {
   "cell_type": "code",
   "execution_count": 21,
   "metadata": {},
   "outputs": [
    {
     "name": "stdout",
     "output_type": "stream",
     "text": [
      "{'Hi': 1, 'Nick': 1, 'Thank': 1, 'much': 1, 'reaching': 1, 'taking': 1, 'time': 1, 'contact': 1, 'us': 2, 'issue': 1, 'I': 4, 'checked': 1, 'servers': 1, 'happy': 1, 'tell': 2, 'able': 1, 'find': 1, 'Backup': 3, 'account': 3, 'created': 1, 'via': 1, 'Email': 1, 'login': 1, 'option': 1, 'connected': 1, 'mail': 1, 'address': 1, 'nickvanbaelen': 1, 'gmail': 1, 'com': 1, 'It': 3, 'last': 1, 'updated': 1, 'December': 1, 'currently': 2, 'contains': 1, 'cards': 1, 'indeed': 1, 'unusual': 1, 'would': 4, 'restore': 1, 'backup': 1, 'log': 2, 'email': 1, 'Unfortunately': 1, 'hard': 1, 'detect': 1, 'source': 1, 'problem': 1, 'without': 1, 'information': 1, 'Therefore': 1, 'kindly': 1, 'ask': 1, 'device': 1, 'operating': 1, 'system': 1, 'using': 1, 'app': 2, 'also': 1, 'helpful': 1, 'know': 1, 'version': 2, 'running': 1, 'To': 1, 'check': 1, 'please': 1, 'go': 1, 'settings': 2, 'click': 1, 'About': 1, 'Android': 1, 'scroll': 1, 'end': 1, 'page': 1, 'iOS': 1, 'Moreover': 1, 'possible': 1, 'send': 1, 'screenshot': 1, 'screen': 1, 'tried': 1}\n"
     ]
    }
   ],
   "source": [
    "stopwords = nltk.corpus.stopwords.words('english')\n",
    "\n",
    "word_frequencies = {}  \n",
    "for word in nltk.word_tokenize(formatted_email_text):  \n",
    "    if word not in stopwords:\n",
    "        if word not in word_frequencies.keys():\n",
    "            word_frequencies[word] = 1\n",
    "        else:\n",
    "            word_frequencies[word] += 1\n",
    "print (word_frequencies)"
   ]
  },
  {
   "cell_type": "code",
   "execution_count": 22,
   "metadata": {},
   "outputs": [
    {
     "name": "stdout",
     "output_type": "stream",
     "text": [
      "4\n"
     ]
    }
   ],
   "source": [
    "maximum_frequncy = max(word_frequencies.values())\n",
    "\n",
    "for word in word_frequencies.keys():  \n",
    "    word_frequencies[word] = (word_frequencies[word]/maximum_frequncy)\n",
    "print (maximum_frequncy)"
   ]
  },
  {
   "cell_type": "code",
   "execution_count": 23,
   "metadata": {},
   "outputs": [
    {
     "name": "stdout",
     "output_type": "stream",
     "text": [
      "{'Hi Nick,\\n\\nThank you so much for reaching out and taking the time to contact us about this issue!': 2.0, 'It was last updated in December 2017 and currently contains 20 cards.': 1.5, 'It is indeed very unusual that   would not restore your backup if your log into your   Backup email account now.': 3.75, 'Unfortunately, it is very hard for us to detect the source of your problem without further information.': 2.0, 'Therefore, I would kindly ask you to tell me which device and operating system you are using our   app on.': 3.5, 'It would also be helpful to know which version of the   app you are currently running.': 3.5, 'To check your version, please go to your   settings and click on \"About\" (Android) or scroll to the end of the settings page (iOS).': 3.25, 'Moreover, would it be possible to send me a screenshot of your   Backup screen after you tried to log into your account?': 3.75}\n"
     ]
    }
   ],
   "source": [
    "sentence_scores = {}  \n",
    "for sent in sentence_list:  \n",
    "    for word in nltk.word_tokenize(sent.lower()):\n",
    "        if word in word_frequencies.keys():\n",
    "            if len(sent.split(' ')) < 30:\n",
    "                if sent not in sentence_scores.keys():\n",
    "                    sentence_scores[sent] = word_frequencies[word]\n",
    "                else:\n",
    "                    sentence_scores[sent] += word_frequencies[word]\n",
    "print (sentence_scores)"
   ]
  },
  {
   "cell_type": "code",
   "execution_count": 24,
   "metadata": {},
   "outputs": [
    {
     "name": "stdout",
     "output_type": "stream",
     "text": [
      "It is indeed very unusual that   would not restore your backup if your log into your   Backup email account now. Moreover, would it be possible to send me a screenshot of your   Backup screen after you tried to log into your account? Therefore, I would kindly ask you to tell me which device and operating system you are using our   app on. It would also be helpful to know which version of the   app you are currently running. To check your version, please go to your   settings and click on \"About\" (Android) or scroll to the end of the settings page (iOS). Hi Nick,\n",
      "\n",
      "Thank you so much for reaching out and taking the time to contact us about this issue! Unfortunately, it is very hard for us to detect the source of your problem without further information.\n"
     ]
    }
   ],
   "source": [
    "import heapq  \n",
    "summary_sentences = heapq.nlargest(7, sentence_scores, key=sentence_scores.get)\n",
    "\n",
    "summary = ' '.join(summary_sentences)  \n",
    "print(summary) "
   ]
  },
  {
   "cell_type": "code",
   "execution_count": 25,
   "metadata": {},
   "outputs": [],
   "source": [
    "import gensim\n",
    "from gensim.summarization import summarize\n",
    "from gensim.summarization import keywords"
   ]
  },
  {
   "cell_type": "code",
   "execution_count": 49,
   "metadata": {},
   "outputs": [
    {
     "name": "stdout",
     "output_type": "stream",
     "text": [
      "Hi Nick,Thank you so much for reaching out and taking the time to contact us about this issue!I checked our servers and I'm happy to tell you that I was able to find a   Backup account created via the \"Email\" login option and connected to your mail address nickvanbaelen@gmail.com. It was last updated in December 2017 and currently contains 20 cards. It is indeed very unusual that   would not restore your backup if your log into your   Backup email account now. Unfortunately, it is very hard for us to detect the source of your problem without further information. Therefore, I would kindly ask you to tell me which device and operating system you are using our   app on. It would also be helpful to know which version of the   app you are currently running. To check your version, please go to your   settings and click on \"About\" (Android) or scroll to the end of the settings page (iOS). Moreover, would it be possible to send me a screenshot of your   Backup screen after you tried to log into your account?\n",
      "Keywords:\n",
      "page\n",
      "backup account\n",
      "email\n",
      "summary:\n",
      "Hi Nick,Thank you so much for reaching out and taking the time to contact us about this issue!I checked our servers and I'm happy to tell you that I was able to find a   Backup account created via the \"Email\" login option and connected to your mail address nickvanbaelen@gmail.com.\n"
     ]
    }
   ],
   "source": [
    "str1 = ''.join(lines)\n",
    "print (str1)\n",
    "\n",
    "print ('Keywords:')\n",
    "print (keywords(str1))\n",
    "\n",
    "print ('summary:')\n",
    "print (summarize(str1))\n"
   ]
  },
  {
   "cell_type": "code",
   "execution_count": null,
   "metadata": {},
   "outputs": [],
   "source": []
  }
 ],
 "metadata": {
  "kernelspec": {
   "display_name": "Python 3",
   "language": "python",
   "name": "python3"
  },
  "language_info": {
   "codemirror_mode": {
    "name": "ipython",
    "version": 3
   },
   "file_extension": ".py",
   "mimetype": "text/x-python",
   "name": "python",
   "nbconvert_exporter": "python",
   "pygments_lexer": "ipython3",
   "version": "3.6.6"
  }
 },
 "nbformat": 4,
 "nbformat_minor": 2
}
